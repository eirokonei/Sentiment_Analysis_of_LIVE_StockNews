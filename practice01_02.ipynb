{
 "cells": [
  {
   "cell_type": "code",
   "execution_count": 1,
   "metadata": {},
   "outputs": [],
   "source": [
    "from urllib.request import urlopen, Request\n",
    "from bs4 import BeautifulSoup\n",
    "import matplotlib.pyplot as plt\n",
    "import pandas as pd"
   ]
  },
  {
   "cell_type": "code",
   "execution_count": 2,
   "metadata": {},
   "outputs": [],
   "source": [
    "finviz_url = 'https://finviz.com/quote.ashx?t='\n",
    "tickers = ['GOOGL', 'META', 'AMZN']"
   ]
  },
  {
   "cell_type": "code",
   "execution_count": 3,
   "metadata": {},
   "outputs": [],
   "source": [
    "news_tables = {}"
   ]
  },
  {
   "cell_type": "code",
   "execution_count": 4,
   "metadata": {},
   "outputs": [],
   "source": [
    "for ticker in tickers:\n",
    "    url = finviz_url+ticker\n",
    "\n",
    "    req = Request(url=url, headers={'user-agent': 'my-app'})\n",
    "    response = urlopen(req)\n",
    "    html = BeautifulSoup(response, 'html')\n",
    "    news_table = html.find(id = 'news-table')\n",
    "    news_tables[ticker] = news_table"
   ]
  },
  {
   "cell_type": "code",
   "execution_count": 5,
   "metadata": {},
   "outputs": [],
   "source": [
    "parsed_data = []\n",
    "\n",
    "for ticker, news_table in news_tables.items():\n",
    "    for row in news_table.findAll('tr'):\n",
    "        title = row.a.get_text()\n",
    "        date_data = row.td.text.split(' ')\n",
    "\n",
    "        if len(date_data) ==1:\n",
    "            time = date_data[0]\n",
    "        else:\n",
    "            date = date_data[0]\n",
    "            time = date_data[1]\n",
    "\n",
    "        parsed_data.append([ticker, date, time, title])"
   ]
  },
  {
   "cell_type": "code",
   "execution_count": 6,
   "metadata": {},
   "outputs": [],
   "source": [
    "df = pd.DataFrame(parsed_data, columns=['ticker', 'date', 'time', 'title'])"
   ]
  },
  {
   "cell_type": "code",
   "execution_count": 7,
   "metadata": {},
   "outputs": [
    {
     "data": {
      "text/html": [
       "<div>\n",
       "<style scoped>\n",
       "    .dataframe tbody tr th:only-of-type {\n",
       "        vertical-align: middle;\n",
       "    }\n",
       "\n",
       "    .dataframe tbody tr th {\n",
       "        vertical-align: top;\n",
       "    }\n",
       "\n",
       "    .dataframe thead th {\n",
       "        text-align: right;\n",
       "    }\n",
       "</style>\n",
       "<table border=\"1\" class=\"dataframe\">\n",
       "  <thead>\n",
       "    <tr style=\"text-align: right;\">\n",
       "      <th></th>\n",
       "      <th>ticker</th>\n",
       "      <th>date</th>\n",
       "      <th>time</th>\n",
       "      <th>title</th>\n",
       "    </tr>\n",
       "  </thead>\n",
       "  <tbody>\n",
       "    <tr>\n",
       "      <th>0</th>\n",
       "      <td>GOOGL</td>\n",
       "      <td>May-15-23</td>\n",
       "      <td>06:36PM</td>\n",
       "      <td>UPDATE 1-OpenAI readies new open-source AI mod...</td>\n",
       "    </tr>\n",
       "    <tr>\n",
       "      <th>1</th>\n",
       "      <td>GOOGL</td>\n",
       "      <td>May-15-23</td>\n",
       "      <td>06:16PM</td>\n",
       "      <td>Google Billionaire Sergey Brin Gifts $600 Mill...</td>\n",
       "    </tr>\n",
       "    <tr>\n",
       "      <th>2</th>\n",
       "      <td>GOOGL</td>\n",
       "      <td>May-15-23</td>\n",
       "      <td>04:13PM</td>\n",
       "      <td>Google's AI Investments Continue to Be a Major...</td>\n",
       "    </tr>\n",
       "    <tr>\n",
       "      <th>3</th>\n",
       "      <td>GOOGL</td>\n",
       "      <td>May-15-23</td>\n",
       "      <td>03:45PM</td>\n",
       "      <td>Chart of the Day: Search for Bullishness Is Ov...</td>\n",
       "    </tr>\n",
       "    <tr>\n",
       "      <th>4</th>\n",
       "      <td>GOOGL</td>\n",
       "      <td>May-15-23</td>\n",
       "      <td>02:03PM</td>\n",
       "      <td>Uber Stock Riding High On Deals With Amazon, G...</td>\n",
       "    </tr>\n",
       "    <tr>\n",
       "      <th>...</th>\n",
       "      <td>...</td>\n",
       "      <td>...</td>\n",
       "      <td>...</td>\n",
       "      <td>...</td>\n",
       "    </tr>\n",
       "    <tr>\n",
       "      <th>295</th>\n",
       "      <td>AMZN</td>\n",
       "      <td>May-10-23</td>\n",
       "      <td>07:42AM</td>\n",
       "      <td>Zacks Investment Ideas feature highlights: App...</td>\n",
       "    </tr>\n",
       "    <tr>\n",
       "      <th>296</th>\n",
       "      <td>AMZN</td>\n",
       "      <td>May-10-23</td>\n",
       "      <td>07:29AM</td>\n",
       "      <td>Q1 2023 Clean Energy Fuels Corp Earnings Call</td>\n",
       "    </tr>\n",
       "    <tr>\n",
       "      <th>297</th>\n",
       "      <td>AMZN</td>\n",
       "      <td>May-10-23</td>\n",
       "      <td>06:58AM</td>\n",
       "      <td>Is Amazon's AI-Powered Supply Chain the Secret...</td>\n",
       "    </tr>\n",
       "    <tr>\n",
       "      <th>298</th>\n",
       "      <td>AMZN</td>\n",
       "      <td>May-10-23</td>\n",
       "      <td>05:53AM</td>\n",
       "      <td>Heres Why Amazon.com (AMZN) Rose in Q1</td>\n",
       "    </tr>\n",
       "    <tr>\n",
       "      <th>299</th>\n",
       "      <td>AMZN</td>\n",
       "      <td>May-10-23</td>\n",
       "      <td>05:05AM</td>\n",
       "      <td>Why AI Is the Next Big Thing in Investing, and...</td>\n",
       "    </tr>\n",
       "  </tbody>\n",
       "</table>\n",
       "<p>300 rows × 4 columns</p>\n",
       "</div>"
      ],
      "text/plain": [
       "    ticker       date     time  \\\n",
       "0    GOOGL  May-15-23  06:36PM   \n",
       "1    GOOGL  May-15-23  06:16PM   \n",
       "2    GOOGL  May-15-23  04:13PM   \n",
       "3    GOOGL  May-15-23  03:45PM   \n",
       "4    GOOGL  May-15-23  02:03PM   \n",
       "..     ...        ...      ...   \n",
       "295   AMZN  May-10-23  07:42AM   \n",
       "296   AMZN  May-10-23  07:29AM   \n",
       "297   AMZN  May-10-23  06:58AM   \n",
       "298   AMZN  May-10-23  05:53AM   \n",
       "299   AMZN  May-10-23  05:05AM   \n",
       "\n",
       "                                                 title  \n",
       "0    UPDATE 1-OpenAI readies new open-source AI mod...  \n",
       "1    Google Billionaire Sergey Brin Gifts $600 Mill...  \n",
       "2    Google's AI Investments Continue to Be a Major...  \n",
       "3    Chart of the Day: Search for Bullishness Is Ov...  \n",
       "4    Uber Stock Riding High On Deals With Amazon, G...  \n",
       "..                                                 ...  \n",
       "295  Zacks Investment Ideas feature highlights: App...  \n",
       "296      Q1 2023 Clean Energy Fuels Corp Earnings Call  \n",
       "297  Is Amazon's AI-Powered Supply Chain the Secret...  \n",
       "298             Heres Why Amazon.com (AMZN) Rose in Q1  \n",
       "299  Why AI Is the Next Big Thing in Investing, and...  \n",
       "\n",
       "[300 rows x 4 columns]"
      ]
     },
     "execution_count": 7,
     "metadata": {},
     "output_type": "execute_result"
    }
   ],
   "source": [
    "df"
   ]
  },
  {
   "cell_type": "code",
   "execution_count": 8,
   "metadata": {},
   "outputs": [],
   "source": [
    "from nltk.sentiment.vader import SentimentIntensityAnalyzer"
   ]
  },
  {
   "cell_type": "code",
   "execution_count": 9,
   "metadata": {},
   "outputs": [],
   "source": [
    "vader = SentimentIntensityAnalyzer()"
   ]
  },
  {
   "cell_type": "code",
   "execution_count": 10,
   "metadata": {},
   "outputs": [],
   "source": [
    "f = lambda title: vader.polarity_scores(title)['compound']\n",
    "df['compound'] = df['title'].apply(f)\n",
    "df['date'] = pd.to_datetime(df.date).dt.date"
   ]
  },
  {
   "cell_type": "code",
   "execution_count": 11,
   "metadata": {},
   "outputs": [],
   "source": [
    "mean_df = df.groupby(['ticker', 'date']).mean().unstack()\n",
    "mean_df = mean_df.xs('compound', axis=\"columns\")"
   ]
  },
  {
   "cell_type": "code",
   "execution_count": 12,
   "metadata": {},
   "outputs": [
    {
     "data": {
      "text/html": [
       "<div>\n",
       "<style scoped>\n",
       "    .dataframe tbody tr th:only-of-type {\n",
       "        vertical-align: middle;\n",
       "    }\n",
       "\n",
       "    .dataframe tbody tr th {\n",
       "        vertical-align: top;\n",
       "    }\n",
       "\n",
       "    .dataframe thead th {\n",
       "        text-align: right;\n",
       "    }\n",
       "</style>\n",
       "<table border=\"1\" class=\"dataframe\">\n",
       "  <thead>\n",
       "    <tr style=\"text-align: right;\">\n",
       "      <th>date</th>\n",
       "      <th>2023-05-04</th>\n",
       "      <th>2023-05-05</th>\n",
       "      <th>2023-05-06</th>\n",
       "      <th>2023-05-08</th>\n",
       "      <th>2023-05-09</th>\n",
       "      <th>2023-05-10</th>\n",
       "      <th>2023-05-11</th>\n",
       "      <th>2023-05-12</th>\n",
       "      <th>2023-05-13</th>\n",
       "      <th>2023-05-14</th>\n",
       "      <th>2023-05-15</th>\n",
       "    </tr>\n",
       "    <tr>\n",
       "      <th>ticker</th>\n",
       "      <th></th>\n",
       "      <th></th>\n",
       "      <th></th>\n",
       "      <th></th>\n",
       "      <th></th>\n",
       "      <th></th>\n",
       "      <th></th>\n",
       "      <th></th>\n",
       "      <th></th>\n",
       "      <th></th>\n",
       "      <th></th>\n",
       "    </tr>\n",
       "  </thead>\n",
       "  <tbody>\n",
       "    <tr>\n",
       "      <th>AMZN</th>\n",
       "      <td>NaN</td>\n",
       "      <td>NaN</td>\n",
       "      <td>NaN</td>\n",
       "      <td>NaN</td>\n",
       "      <td>NaN</td>\n",
       "      <td>0.249265</td>\n",
       "      <td>0.153853</td>\n",
       "      <td>0.194414</td>\n",
       "      <td>0.264557</td>\n",
       "      <td>0.326512</td>\n",
       "      <td>0.140309</td>\n",
       "    </tr>\n",
       "    <tr>\n",
       "      <th>GOOGL</th>\n",
       "      <td>NaN</td>\n",
       "      <td>NaN</td>\n",
       "      <td>NaN</td>\n",
       "      <td>NaN</td>\n",
       "      <td>NaN</td>\n",
       "      <td>0.244754</td>\n",
       "      <td>-0.019425</td>\n",
       "      <td>0.129165</td>\n",
       "      <td>-0.238500</td>\n",
       "      <td>0.000000</td>\n",
       "      <td>0.064009</td>\n",
       "    </tr>\n",
       "    <tr>\n",
       "      <th>META</th>\n",
       "      <td>-0.0837</td>\n",
       "      <td>0.0404</td>\n",
       "      <td>0.067433</td>\n",
       "      <td>0.028691</td>\n",
       "      <td>0.077571</td>\n",
       "      <td>0.020242</td>\n",
       "      <td>0.110720</td>\n",
       "      <td>0.059050</td>\n",
       "      <td>0.000000</td>\n",
       "      <td>0.405700</td>\n",
       "      <td>0.092062</td>\n",
       "    </tr>\n",
       "  </tbody>\n",
       "</table>\n",
       "</div>"
      ],
      "text/plain": [
       "date    2023-05-04  2023-05-05  2023-05-06  2023-05-08  2023-05-09  \\\n",
       "ticker                                                               \n",
       "AMZN           NaN         NaN         NaN         NaN         NaN   \n",
       "GOOGL          NaN         NaN         NaN         NaN         NaN   \n",
       "META       -0.0837      0.0404    0.067433    0.028691    0.077571   \n",
       "\n",
       "date    2023-05-10  2023-05-11  2023-05-12  2023-05-13  2023-05-14  2023-05-15  \n",
       "ticker                                                                          \n",
       "AMZN      0.249265    0.153853    0.194414    0.264557    0.326512    0.140309  \n",
       "GOOGL     0.244754   -0.019425    0.129165   -0.238500    0.000000    0.064009  \n",
       "META      0.020242    0.110720    0.059050    0.000000    0.405700    0.092062  "
      ]
     },
     "execution_count": 12,
     "metadata": {},
     "output_type": "execute_result"
    }
   ],
   "source": [
    "mean_df"
   ]
  },
  {
   "cell_type": "code",
   "execution_count": 16,
   "metadata": {},
   "outputs": [
    {
     "data": {
      "text/plain": [
       "<Figure size 864x576 with 0 Axes>"
      ]
     },
     "metadata": {},
     "output_type": "display_data"
    },
    {
     "data": {
      "image/png": "[encoded data removed]",
      "text/plain": [
       "<Figure size 432x288 with 1 Axes>"
      ]
     },
     "metadata": {
      "needs_background": "light"
     },
     "output_type": "display_data"
    }
   ],
   "source": [
    "plt.figure(figsize=(12,8))\n",
    "mean_df.plot(kind='bar')\n",
    "plt.show()"
   ]
  },
  {
   "cell_type": "code",
   "execution_count": null,
   "metadata": {},
   "outputs": [],
   "source": []
  }
 ],
 "metadata": {
  "kernelspec": {
   "display_name": "Python 3",
   "language": "python",
   "name": "python3"
  },
  "language_info": {
   "codemirror_mode": {
    "name": "ipython",
    "version": 3
   },
   "file_extension": ".py",
   "mimetype": "text/x-python",
   "name": "python",
   "nbconvert_exporter": "python",
   "pygments_lexer": "ipython3",
   "version": "3.8.5"
  }
 },
 "nbformat": 4,
 "nbformat_minor": 4
}
